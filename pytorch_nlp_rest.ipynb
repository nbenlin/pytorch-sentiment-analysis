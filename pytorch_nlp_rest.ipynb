{
 "cells": [
  {
   "cell_type": "markdown",
   "id": "af5e5476",
   "metadata": {},
   "source": [
    "# Rest API using the Pythorch classifier model and tfidf vectorizer"
   ]
  },
  {
   "cell_type": "code",
   "execution_count": 17,
   "id": "a74eac68",
   "metadata": {},
   "outputs": [],
   "source": [
    "from flask import Flask\n",
    "import pickle\n",
    "import numpy as np\n",
    "import torch\n",
    "import torch.nn as nn\n",
    "from torch.nn import functional as F\n",
    "import pandas as pd\n",
    "from flask import request"
   ]
  },
  {
   "cell_type": "code",
   "execution_count": 7,
   "id": "0e367975",
   "metadata": {},
   "outputs": [],
   "source": [
    "# Declare class\n",
    "\n",
    "input_size = 466\n",
    "output_size = 2\n",
    "hidden_size = 500"
   ]
  },
  {
   "cell_type": "code",
   "execution_count": 8,
   "id": "b2616c88",
   "metadata": {},
   "outputs": [],
   "source": [
    "class Net(nn.Module):\n",
    "    def __init__(self):\n",
    "        super(Net, self).__init__()\n",
    "        self.fc1 = torch.nn.Linear(input_size, hidden_size)\n",
    "        self.fc2 = torch.nn.Linear(hidden_size, hidden_size)\n",
    "        self.fc3 = torch.nn.Linear(hidden_size, output_size)\n",
    "        \n",
    "            \n",
    "    def forward(self, X):\n",
    "        X = torch.relu(self.fc1(X))\n",
    "        X = torch.relu((self.fc2(X)))\n",
    "        X = self.fc3(X)\n",
    "        \n",
    "        return F.log_softmax(X, dim=1)"
   ]
  },
  {
   "cell_type": "code",
   "execution_count": 9,
   "id": "484bd355",
   "metadata": {},
   "outputs": [],
   "source": [
    "# Declare a class for the Pytorch model\n",
    "model = Net()"
   ]
  },
  {
   "cell_type": "code",
   "execution_count": 12,
   "id": "e365b8a6",
   "metadata": {},
   "outputs": [
    {
     "data": {
      "text/plain": [
       "<All keys matched successfully>"
      ]
     },
     "execution_count": 12,
     "metadata": {},
     "output_type": "execute_result"
    }
   ],
   "source": [
    "# Load pytorch dictonary\n",
    "model.load_state_dict(torch.load('text_classifier_pytorch'))"
   ]
  },
  {
   "cell_type": "code",
   "execution_count": 13,
   "id": "7cb352f0",
   "metadata": {},
   "outputs": [],
   "source": [
    "app = Flask(__name__)"
   ]
  },
  {
   "cell_type": "code",
   "execution_count": 14,
   "id": "6c429b97",
   "metadata": {},
   "outputs": [],
   "source": [
    "# Load tfidf model\n",
    "\n",
    "with open('tfidfmodel.pickle', 'rb') as file:\n",
    "    tfidf = pickle.load(file)"
   ]
  },
  {
   "cell_type": "code",
   "execution_count": 15,
   "id": "a911893d",
   "metadata": {},
   "outputs": [],
   "source": [
    "# Method for read the request\n",
    "\n",
    "@app.route('/predict', methods=['POST'])\n",
    "def predict_sentence():\n",
    "    request_data = request.get_json(force = True)\n",
    "    text = request_data['sentence']\n",
    "    print(\"Sentence is:\", text)\n",
    "    text_list = []\n",
    "    text_list.append(text)\n",
    "    print(text_list)\n",
    "    numeric_text = tfidf.transform(text_list).toarray()\n",
    "    output = model(torch.from_numpy(numeric_text).float())  # Pytorch predict the output\n",
    "    print(\"Printing predictions...\")\n",
    "    print(output[:, 0][0])\n",
    "    print(output[:, 1][0])\n",
    "    sentiment = \"unknown\"\n",
    "    if torch.gt(output[:, 0][0], output[:, 1][0]):\n",
    "        print(\"Negative prediction\")\n",
    "        sentiment = \"Negative\"\n",
    "    else:\n",
    "        print(\"Positive\")\n",
    "        sentiment = \"Positive prediction\"\n",
    "    print(\"Printing prediction ...\")\n",
    "    print(sentiment)\n",
    "    return \"The prediction is {}\".format(sentiment)\n",
    "    \n",
    "    "
   ]
  },
  {
   "cell_type": "code",
   "execution_count": 18,
   "id": "2321be79",
   "metadata": {},
   "outputs": [
    {
     "name": "stdout",
     "output_type": "stream",
     "text": [
      " * Serving Flask app \"__main__\" (lazy loading)\n",
      " * Environment: production\n",
      "   WARNING: This is a development server. Do not use it in a production deployment.\n",
      "   Use a production WSGI server instead.\n",
      " * Debug mode: off\n"
     ]
    },
    {
     "name": "stderr",
     "output_type": "stream",
     "text": [
      " * Running on http://127.0.0.1:5000/ (Press CTRL+C to quit)\n",
      "127.0.0.1 - - [12/Jun/2021 16:30:33] \"\u001b[37mPOST /predict HTTP/1.1\u001b[0m\" 200 -\n"
     ]
    },
    {
     "name": "stdout",
     "output_type": "stream",
     "text": [
      "Sentence is: good day in poland\n",
      "['good day in poland']\n",
      "Printing predictions...\n",
      "tensor(-24.2465, grad_fn=<SelectBackward>)\n",
      "tensor(0., grad_fn=<SelectBackward>)\n",
      "Positive\n",
      "Printing prediction ...\n",
      "Positive prediction\n"
     ]
    },
    {
     "name": "stderr",
     "output_type": "stream",
     "text": [
      "127.0.0.1 - - [12/Jun/2021 16:30:41] \"\u001b[37mPOST /predict HTTP/1.1\u001b[0m\" 200 -\n"
     ]
    },
    {
     "name": "stdout",
     "output_type": "stream",
     "text": [
      "Sentence is: bad day in poland\n",
      "['bad day in poland']\n",
      "Printing predictions...\n",
      "tensor(0., grad_fn=<SelectBackward>)\n",
      "tensor(-21.5121, grad_fn=<SelectBackward>)\n",
      "Negative prediction\n",
      "Printing prediction ...\n",
      "Negative\n"
     ]
    }
   ],
   "source": [
    "app.run()"
   ]
  },
  {
   "cell_type": "code",
   "execution_count": null,
   "id": "a0cacc4c",
   "metadata": {},
   "outputs": [],
   "source": []
  }
 ],
 "metadata": {
  "kernelspec": {
   "display_name": "Python 3",
   "language": "python",
   "name": "python3"
  },
  "language_info": {
   "codemirror_mode": {
    "name": "ipython",
    "version": 3
   },
   "file_extension": ".py",
   "mimetype": "text/x-python",
   "name": "python",
   "nbconvert_exporter": "python",
   "pygments_lexer": "ipython3",
   "version": "3.7.10"
  }
 },
 "nbformat": 4,
 "nbformat_minor": 5
}
